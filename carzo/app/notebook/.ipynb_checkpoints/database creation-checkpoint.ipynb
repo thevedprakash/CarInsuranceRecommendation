{
 "cells": [
  {
   "cell_type": "code",
   "execution_count": 1,
   "metadata": {},
   "outputs": [],
   "source": [
    "import os\n",
    "import re\n",
    "import pandas as pd\n"
   ]
  },
  {
   "cell_type": "code",
   "execution_count": 2,
   "metadata": {},
   "outputs": [],
   "source": [
    "data_path = '../cleaned_data/cleaned_datamaster_data.csv'"
   ]
  },
  {
   "cell_type": "code",
   "execution_count": 3,
   "metadata": {},
   "outputs": [],
   "source": [
    "df = pd.read_csv(data_path)"
   ]
  },
  {
   "cell_type": "code",
   "execution_count": 4,
   "metadata": {},
   "outputs": [
    {
     "data": {
      "text/html": [
       "<div>\n",
       "<style scoped>\n",
       "    .dataframe tbody tr th:only-of-type {\n",
       "        vertical-align: middle;\n",
       "    }\n",
       "\n",
       "    .dataframe tbody tr th {\n",
       "        vertical-align: top;\n",
       "    }\n",
       "\n",
       "    .dataframe thead th {\n",
       "        text-align: right;\n",
       "    }\n",
       "</style>\n",
       "<table border=\"1\" class=\"dataframe\">\n",
       "  <thead>\n",
       "    <tr style=\"text-align: right;\">\n",
       "      <th></th>\n",
       "      <th>User_Id</th>\n",
       "      <th>NAV_Category</th>\n",
       "      <th>IDV_Category</th>\n",
       "      <th>Owned</th>\n",
       "      <th>Parking_Space</th>\n",
       "      <th>Anti_Theft</th>\n",
       "      <th>Commute</th>\n",
       "      <th>Locality</th>\n",
       "      <th>DL_Suspended</th>\n",
       "      <th>State</th>\n",
       "      <th>...</th>\n",
       "      <th>year</th>\n",
       "      <th>Price</th>\n",
       "      <th>Liability Coverage</th>\n",
       "      <th>Comp</th>\n",
       "      <th>Collision</th>\n",
       "      <th>Car Rental</th>\n",
       "      <th>Umbrella</th>\n",
       "      <th>PIP</th>\n",
       "      <th>Med</th>\n",
       "      <th>Gap</th>\n",
       "    </tr>\n",
       "  </thead>\n",
       "  <tbody>\n",
       "    <tr>\n",
       "      <th>0</th>\n",
       "      <td>5</td>\n",
       "      <td>I</td>\n",
       "      <td>I</td>\n",
       "      <td>Yes</td>\n",
       "      <td>IN</td>\n",
       "      <td>No</td>\n",
       "      <td>Leisure</td>\n",
       "      <td>Rural</td>\n",
       "      <td>No</td>\n",
       "      <td>North Carolina</td>\n",
       "      <td>...</td>\n",
       "      <td>2019</td>\n",
       "      <td>13767.0000</td>\n",
       "      <td>'30/60/25'</td>\n",
       "      <td>Comprehensive Coverage</td>\n",
       "      <td>NaN</td>\n",
       "      <td>Car Rental I</td>\n",
       "      <td>NaN</td>\n",
       "      <td>Personal Injury Protection</td>\n",
       "      <td>Med Pay</td>\n",
       "      <td>NaN</td>\n",
       "    </tr>\n",
       "    <tr>\n",
       "      <th>1</th>\n",
       "      <td>6</td>\n",
       "      <td>I</td>\n",
       "      <td>I</td>\n",
       "      <td>Yes</td>\n",
       "      <td>OUT</td>\n",
       "      <td>Yes</td>\n",
       "      <td>Work</td>\n",
       "      <td>Rural</td>\n",
       "      <td>No</td>\n",
       "      <td>New York</td>\n",
       "      <td>...</td>\n",
       "      <td>2019</td>\n",
       "      <td>13767.0000</td>\n",
       "      <td>'25/50/10'</td>\n",
       "      <td>NaN</td>\n",
       "      <td>NaN</td>\n",
       "      <td>NaN</td>\n",
       "      <td>NaN</td>\n",
       "      <td>Personal Injury Protection</td>\n",
       "      <td>Med Pay</td>\n",
       "      <td>NaN</td>\n",
       "    </tr>\n",
       "    <tr>\n",
       "      <th>2</th>\n",
       "      <td>14</td>\n",
       "      <td>I</td>\n",
       "      <td>I</td>\n",
       "      <td>Yes</td>\n",
       "      <td>OUT</td>\n",
       "      <td>No</td>\n",
       "      <td>Leisure</td>\n",
       "      <td>Rural</td>\n",
       "      <td>No</td>\n",
       "      <td>New Mexico</td>\n",
       "      <td>...</td>\n",
       "      <td>2017</td>\n",
       "      <td>12580.0000</td>\n",
       "      <td>'25/50/10'</td>\n",
       "      <td>Comprehensive Coverage</td>\n",
       "      <td>NaN</td>\n",
       "      <td>Car Rental I</td>\n",
       "      <td>NaN</td>\n",
       "      <td>NaN</td>\n",
       "      <td>NaN</td>\n",
       "      <td>NaN</td>\n",
       "    </tr>\n",
       "    <tr>\n",
       "      <th>3</th>\n",
       "      <td>15</td>\n",
       "      <td>I</td>\n",
       "      <td>I</td>\n",
       "      <td>Yes</td>\n",
       "      <td>IN</td>\n",
       "      <td>No</td>\n",
       "      <td>Work</td>\n",
       "      <td>Rural</td>\n",
       "      <td>No</td>\n",
       "      <td>Colorado</td>\n",
       "      <td>...</td>\n",
       "      <td>2019</td>\n",
       "      <td>14103.2314</td>\n",
       "      <td>'25/50/15'</td>\n",
       "      <td>Comprehensive Coverage</td>\n",
       "      <td>NaN</td>\n",
       "      <td>Car Rental I</td>\n",
       "      <td>NaN</td>\n",
       "      <td>Personal Injury Protection</td>\n",
       "      <td>Med Pay</td>\n",
       "      <td>NaN</td>\n",
       "    </tr>\n",
       "    <tr>\n",
       "      <th>4</th>\n",
       "      <td>16</td>\n",
       "      <td>I</td>\n",
       "      <td>I</td>\n",
       "      <td>Yes</td>\n",
       "      <td>IN</td>\n",
       "      <td>No</td>\n",
       "      <td>Leisure</td>\n",
       "      <td>Rural</td>\n",
       "      <td>No</td>\n",
       "      <td>Tennessee</td>\n",
       "      <td>...</td>\n",
       "      <td>2016</td>\n",
       "      <td>14595.0000</td>\n",
       "      <td>'25/50/10'</td>\n",
       "      <td>Comprehensive Coverage</td>\n",
       "      <td>NaN</td>\n",
       "      <td>Car Rental I</td>\n",
       "      <td>NaN</td>\n",
       "      <td>Personal Injury Protection</td>\n",
       "      <td>Med Pay</td>\n",
       "      <td>NaN</td>\n",
       "    </tr>\n",
       "  </tbody>\n",
       "</table>\n",
       "<p>5 rows × 25 columns</p>\n",
       "</div>"
      ],
      "text/plain": [
       "   User_Id NAV_Category IDV_Category Owned Parking_Space Anti_Theft  Commute  \\\n",
       "0        5            I            I   Yes            IN         No  Leisure   \n",
       "1        6            I            I   Yes           OUT        Yes     Work   \n",
       "2       14            I            I   Yes           OUT         No  Leisure   \n",
       "3       15            I            I   Yes            IN         No     Work   \n",
       "4       16            I            I   Yes            IN         No  Leisure   \n",
       "\n",
       "  Locality DL_Suspended           State  ...  year       Price  \\\n",
       "0    Rural           No  North Carolina  ...  2019  13767.0000   \n",
       "1    Rural           No        New York  ...  2019  13767.0000   \n",
       "2    Rural           No      New Mexico  ...  2017  12580.0000   \n",
       "3    Rural           No        Colorado  ...  2019  14103.2314   \n",
       "4    Rural           No       Tennessee  ...  2016  14595.0000   \n",
       "\n",
       "  Liability Coverage                    Comp Collision    Car Rental  \\\n",
       "0         '30/60/25'  Comprehensive Coverage       NaN  Car Rental I   \n",
       "1         '25/50/10'                     NaN       NaN           NaN   \n",
       "2         '25/50/10'  Comprehensive Coverage       NaN  Car Rental I   \n",
       "3         '25/50/15'  Comprehensive Coverage       NaN  Car Rental I   \n",
       "4         '25/50/10'  Comprehensive Coverage       NaN  Car Rental I   \n",
       "\n",
       "   Umbrella                         PIP      Med  Gap  \n",
       "0       NaN  Personal Injury Protection  Med Pay  NaN  \n",
       "1       NaN  Personal Injury Protection  Med Pay  NaN  \n",
       "2       NaN                         NaN      NaN  NaN  \n",
       "3       NaN  Personal Injury Protection  Med Pay  NaN  \n",
       "4       NaN  Personal Injury Protection  Med Pay  NaN  \n",
       "\n",
       "[5 rows x 25 columns]"
      ]
     },
     "execution_count": 4,
     "metadata": {},
     "output_type": "execute_result"
    }
   ],
   "source": [
    "df.head()"
   ]
  },
  {
   "cell_type": "code",
   "execution_count": 5,
   "metadata": {},
   "outputs": [
    {
     "data": {
      "text/plain": [
       "Index(['User_Id', 'NAV_Category', 'IDV_Category', 'Owned', 'Parking_Space',\n",
       "       'Anti_Theft', 'Commute', 'Locality', 'DL_Suspended', 'State', 'makeId',\n",
       "       'modelId', 'makeName', 'modelName', 'usage', 'year', 'Price',\n",
       "       'Liability Coverage', 'Comp', 'Collision', 'Car Rental', 'Umbrella',\n",
       "       'PIP', 'Med', 'Gap'],\n",
       "      dtype='object')"
      ]
     },
     "execution_count": 5,
     "metadata": {},
     "output_type": "execute_result"
    }
   ],
   "source": [
    "df.columns"
   ]
  },
  {
   "cell_type": "code",
   "execution_count": 7,
   "metadata": {},
   "outputs": [
    {
     "data": {
      "text/plain": [
       "'\\nCREATE TABLE CarMake(\\n\\t`MakeId`varchar(50) NOT NULL,\\n\\t`MakeName` varchar(50) NULL\\n);\\n'"
      ]
     },
     "execution_count": 7,
     "metadata": {},
     "output_type": "execute_result"
    }
   ],
   "source": [
    " \n",
    "# /****** Object:  Table [dbo].[CarMake]    Script Date: 28-08-2019 17:43:47 ******/\n",
    "\n",
    "\n",
    "'''\n",
    "CREATE TABLE CarMake(\n",
    "\t`MakeId`varchar(50) NOT NULL,\n",
    "\t`MakeName` varchar(50) NULL\n",
    ");\n",
    "'''"
   ]
  },
  {
   "cell_type": "code",
   "execution_count": 8,
   "metadata": {},
   "outputs": [
    {
     "data": {
      "text/html": [
       "<div>\n",
       "<style scoped>\n",
       "    .dataframe tbody tr th:only-of-type {\n",
       "        vertical-align: middle;\n",
       "    }\n",
       "\n",
       "    .dataframe tbody tr th {\n",
       "        vertical-align: top;\n",
       "    }\n",
       "\n",
       "    .dataframe thead th {\n",
       "        text-align: right;\n",
       "    }\n",
       "</style>\n",
       "<table border=\"1\" class=\"dataframe\">\n",
       "  <thead>\n",
       "    <tr style=\"text-align: right;\">\n",
       "      <th></th>\n",
       "      <th>makeId</th>\n",
       "      <th>makeName</th>\n",
       "    </tr>\n",
       "  </thead>\n",
       "  <tbody>\n",
       "    <tr>\n",
       "      <th>0</th>\n",
       "      <td>20064</td>\n",
       "      <td>Hyundai</td>\n",
       "    </tr>\n",
       "    <tr>\n",
       "      <th>1</th>\n",
       "      <td>20064</td>\n",
       "      <td>Hyundai</td>\n",
       "    </tr>\n",
       "  </tbody>\n",
       "</table>\n",
       "</div>"
      ],
      "text/plain": [
       "   makeId makeName\n",
       "0   20064  Hyundai\n",
       "1   20064  Hyundai"
      ]
     },
     "execution_count": 8,
     "metadata": {},
     "output_type": "execute_result"
    }
   ],
   "source": [
    "carmake_df = df[['makeId','makeName']]\n",
    "carmake_df.head(2)"
   ]
  },
  {
   "cell_type": "code",
   "execution_count": 9,
   "metadata": {},
   "outputs": [
    {
     "data": {
      "text/plain": [
       "3432"
      ]
     },
     "execution_count": 9,
     "metadata": {},
     "output_type": "execute_result"
    }
   ],
   "source": [
    "len(carmake_df)"
   ]
  },
  {
   "cell_type": "code",
   "execution_count": 10,
   "metadata": {},
   "outputs": [
    {
     "data": {
      "text/plain": [
       "44"
      ]
     },
     "execution_count": 10,
     "metadata": {},
     "output_type": "execute_result"
    }
   ],
   "source": [
    "len(carmake_df.drop_duplicates())"
   ]
  },
  {
   "cell_type": "code",
   "execution_count": 11,
   "metadata": {},
   "outputs": [],
   "source": [
    "CarMake = carmake_df.drop_duplicates()\n",
    "\n",
    "CarMake.to_csv(\"../cleaned_data/CarMake.csv\",index=False)"
   ]
  },
  {
   "cell_type": "code",
   "execution_count": 12,
   "metadata": {},
   "outputs": [
    {
     "data": {
      "text/plain": [
       "' \\nCREATE TABLE CarMakeYear(\\n\\t`ModelId` varchar(50) NULL,\\n\\t`Year` int NULL\\n);\\n'"
      ]
     },
     "execution_count": 12,
     "metadata": {},
     "output_type": "execute_result"
    }
   ],
   "source": [
    "# /****** Object:  Table [dbo].[CarMakeYear]    Script Date: 28-08-2019 17:43:48 ******/\n",
    "\n",
    "''' \n",
    "CREATE TABLE CarMakeYear(\n",
    "\t`ModelId` varchar(50) NULL,\n",
    "\t`Year` int NULL\n",
    ");\n",
    "'''"
   ]
  },
  {
   "cell_type": "code",
   "execution_count": null,
   "metadata": {},
   "outputs": [],
   "source": []
  },
  {
   "cell_type": "code",
   "execution_count": 13,
   "metadata": {},
   "outputs": [
    {
     "data": {
      "text/html": [
       "<div>\n",
       "<style scoped>\n",
       "    .dataframe tbody tr th:only-of-type {\n",
       "        vertical-align: middle;\n",
       "    }\n",
       "\n",
       "    .dataframe tbody tr th {\n",
       "        vertical-align: top;\n",
       "    }\n",
       "\n",
       "    .dataframe thead th {\n",
       "        text-align: right;\n",
       "    }\n",
       "</style>\n",
       "<table border=\"1\" class=\"dataframe\">\n",
       "  <thead>\n",
       "    <tr style=\"text-align: right;\">\n",
       "      <th></th>\n",
       "      <th>modelId</th>\n",
       "      <th>year</th>\n",
       "    </tr>\n",
       "  </thead>\n",
       "  <tbody>\n",
       "    <tr>\n",
       "      <th>0</th>\n",
       "      <td>21073</td>\n",
       "      <td>2019</td>\n",
       "    </tr>\n",
       "    <tr>\n",
       "      <th>1</th>\n",
       "      <td>30263</td>\n",
       "      <td>2019</td>\n",
       "    </tr>\n",
       "  </tbody>\n",
       "</table>\n",
       "</div>"
      ],
      "text/plain": [
       "   modelId  year\n",
       "0    21073  2019\n",
       "1    30263  2019"
      ]
     },
     "execution_count": 13,
     "metadata": {},
     "output_type": "execute_result"
    }
   ],
   "source": [
    "carmakeyear_df  = df[['modelId','year']]\n",
    "carmakeyear_df.head(2)"
   ]
  },
  {
   "cell_type": "code",
   "execution_count": 20,
   "metadata": {},
   "outputs": [],
   "source": [
    "carmakeyear_df.to_csv(\"../cleaned_data/CarMakeYear.csv\",index=False)"
   ]
  },
  {
   "cell_type": "code",
   "execution_count": null,
   "metadata": {},
   "outputs": [],
   "source": [
    "# /****** Object:  Table [dbo].[CarModel]    Script Date: 28-08-2019 17:43:48 ******/\n",
    "\n",
    "''' \n",
    "CREATE TABLE CarModel(\n",
    "\t`MakeId` varchar(50) NOT NULL,\n",
    "\t`ModelId` varchar(50) NULL,\n",
    "\t`ModelName` varchar(255) NULL\n",
    ");\n",
    "'''"
   ]
  },
  {
   "cell_type": "code",
   "execution_count": 14,
   "metadata": {},
   "outputs": [
    {
     "data": {
      "text/html": [
       "<div>\n",
       "<style scoped>\n",
       "    .dataframe tbody tr th:only-of-type {\n",
       "        vertical-align: middle;\n",
       "    }\n",
       "\n",
       "    .dataframe tbody tr th {\n",
       "        vertical-align: top;\n",
       "    }\n",
       "\n",
       "    .dataframe thead th {\n",
       "        text-align: right;\n",
       "    }\n",
       "</style>\n",
       "<table border=\"1\" class=\"dataframe\">\n",
       "  <thead>\n",
       "    <tr style=\"text-align: right;\">\n",
       "      <th></th>\n",
       "      <th>makeId</th>\n",
       "      <th>modelId</th>\n",
       "      <th>modelName</th>\n",
       "    </tr>\n",
       "  </thead>\n",
       "  <tbody>\n",
       "    <tr>\n",
       "      <th>0</th>\n",
       "      <td>20064</td>\n",
       "      <td>21073</td>\n",
       "      <td>Entourage</td>\n",
       "    </tr>\n",
       "    <tr>\n",
       "      <th>1</th>\n",
       "      <td>20064</td>\n",
       "      <td>30263</td>\n",
       "      <td>GenesisCoupe</td>\n",
       "    </tr>\n",
       "  </tbody>\n",
       "</table>\n",
       "</div>"
      ],
      "text/plain": [
       "   makeId  modelId     modelName\n",
       "0   20064    21073     Entourage\n",
       "1   20064    30263  GenesisCoupe"
      ]
     },
     "execution_count": 14,
     "metadata": {},
     "output_type": "execute_result"
    }
   ],
   "source": [
    "carmodel_df = df[['makeId','modelId', 'modelName']]\n",
    "carmodel_df.head(2)"
   ]
  },
  {
   "cell_type": "code",
   "execution_count": 26,
   "metadata": {},
   "outputs": [],
   "source": [
    "carmodel_df.to_csv(\"../cleaned_data/CarModel.csv\",index=False)"
   ]
  },
  {
   "cell_type": "code",
   "execution_count": 23,
   "metadata": {},
   "outputs": [
    {
     "data": {
      "text/plain": [
       "'\\n \\nCREATE TABLE Cars(\\n\\t`ModelId` varchar(50) NULL,\\n\\t`Usage` varchar(50) NULL,\\n\\t`Year` int NULL,\\n\\t`IDV_Category` varchar(10) NULL,\\n\\t`Price` int NULL\\n);\\n\\n'"
      ]
     },
     "execution_count": 23,
     "metadata": {},
     "output_type": "execute_result"
    }
   ],
   "source": [
    "# /****** Object:  Table [dbo].[Cars]    Script Date: 28-08-2019 17:43:48 ******/\n",
    "'''\n",
    " \n",
    "CREATE TABLE Cars(\n",
    "\t`ModelId` varchar(50) NULL,\n",
    "\t`Usage` varchar(50) NULL,\n",
    "\t`Year` int NULL,\n",
    "\t`IDV_Category` varchar(10) NULL,\n",
    "\t`Price` int NULL\n",
    ");\n",
    "\n",
    "'''"
   ]
  },
  {
   "cell_type": "code",
   "execution_count": 15,
   "metadata": {},
   "outputs": [],
   "source": [
    "cars_df = df[['modelId','usage','year','IDV_Category', 'Price']]"
   ]
  },
  {
   "cell_type": "code",
   "execution_count": 16,
   "metadata": {},
   "outputs": [
    {
     "data": {
      "text/plain": [
       "(3432, 1236)"
      ]
     },
     "execution_count": 16,
     "metadata": {},
     "output_type": "execute_result"
    }
   ],
   "source": [
    "len(cars_df),len(cars_df.drop_duplicates())"
   ]
  },
  {
   "cell_type": "code",
   "execution_count": 24,
   "metadata": {},
   "outputs": [],
   "source": [
    "cars_df.to_csv(\"../cleaned_data/Cars.csv\",index=False)"
   ]
  },
  {
   "cell_type": "code",
   "execution_count": 25,
   "metadata": {},
   "outputs": [
    {
     "data": {
      "text/plain": [
       "'                \\nCREATE TABLE Cars_Master(\\n\\t`MakeID` varchar(50) NOT NULL,\\n\\t`ModelID` varchar(50) NULL,\\n\\t`MakeName` varchar(50) NULL,\\n\\t`Usage` varchar(50) NULL,\\n\\t`Year` int NULL,\\n\\t`IDV_Category` varchar(10) NULL,\\n\\t`Price` int NULL,\\n\\t`ModelName` varchar(255) NULL\\n);\\n'"
      ]
     },
     "execution_count": 25,
     "metadata": {},
     "output_type": "execute_result"
    }
   ],
   "source": [
    "# /****** Object:  Table [dbo].[Cars_Master]    Script Date: 28-08-2019 17:43:48 ******/\n",
    "\n",
    "'''                \n",
    "CREATE TABLE Cars_Master(\n",
    "\t`MakeID` varchar(50) NOT NULL,\n",
    "\t`ModelID` varchar(50) NULL,\n",
    "\t`MakeName` varchar(50) NULL,\n",
    "\t`Usage` varchar(50) NULL,\n",
    "\t`Year` int NULL,\n",
    "\t`IDV_Category` varchar(10) NULL,\n",
    "\t`Price` int NULL,\n",
    "\t`ModelName` varchar(255) NULL\n",
    ");\n",
    "'''\n"
   ]
  },
  {
   "cell_type": "code",
   "execution_count": 17,
   "metadata": {},
   "outputs": [],
   "source": [
    "Cars_Master_df = df[['makeId','modelId', 'makeName', 'usage', 'year', 'IDV_Category', 'Price', 'modelName']]"
   ]
  },
  {
   "cell_type": "code",
   "execution_count": 18,
   "metadata": {},
   "outputs": [
    {
     "data": {
      "text/plain": [
       "(3432, 1238)"
      ]
     },
     "execution_count": 18,
     "metadata": {},
     "output_type": "execute_result"
    }
   ],
   "source": [
    "len(Cars_Master_df),len(Cars_Master_df.drop_duplicates())"
   ]
  },
  {
   "cell_type": "code",
   "execution_count": 19,
   "metadata": {},
   "outputs": [],
   "source": [
    "Cars_Master = Cars_Master_df.drop_duplicates()\n",
    "\n",
    "Cars_Master.to_csv(\"../cleaned_data/Cars_Master.csv\",index=False)"
   ]
  },
  {
   "cell_type": "code",
   "execution_count": null,
   "metadata": {},
   "outputs": [],
   "source": []
  }
 ],
 "metadata": {
  "kernelspec": {
   "display_name": "Python 3 (ipykernel)",
   "language": "python",
   "name": "python3"
  },
  "language_info": {
   "codemirror_mode": {
    "name": "ipython",
    "version": 3
   },
   "file_extension": ".py",
   "mimetype": "text/x-python",
   "name": "python",
   "nbconvert_exporter": "python",
   "pygments_lexer": "ipython3",
   "version": "3.9.7"
  }
 },
 "nbformat": 4,
 "nbformat_minor": 2
}
