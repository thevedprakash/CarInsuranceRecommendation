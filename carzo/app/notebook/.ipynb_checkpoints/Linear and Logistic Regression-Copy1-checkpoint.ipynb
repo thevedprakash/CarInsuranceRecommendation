{
 "cells": [
  {
   "cell_type": "code",
   "execution_count": 5,
   "metadata": {},
   "outputs": [],
   "source": [
    "from sklearn.datasets import load_iris ,load_boston , load_breast_cancer\n",
    "from sklearn.preprocessing import MinMaxScaler, Imputer\n",
    "from sklearn.linear_model import LogisticRegression ,Ridge, Lasso, \n",
    "\n",
    "from sklearn.tree import DecisionTreeRegressor\n",
    "from sklearn.ensemble import RandomForestRegressor\n",
    "\n",
    "from sklearn.linear_model import LinearRegression\n",
    "from sklearn.model_selection import train_test_split\n",
    "from sklearn.pipeline import Pipeline"
   ]
  },
  {
   "cell_type": "code",
   "execution_count": 6,
   "metadata": {},
   "outputs": [],
   "source": [
    "from sklearn import linear_model"
   ]
  },
  {
   "cell_type": "code",
   "execution_count": 7,
   "metadata": {},
   "outputs": [],
   "source": [
    "import matplotlib.pyplot as plt"
   ]
  },
  {
   "cell_type": "code",
   "execution_count": 42,
   "metadata": {},
   "outputs": [],
   "source": [
    "from sklearn.metrics import accuracy_score, confusion_matrix, precision_score, recall_score , roc_auc_score    # (y_true, y_pred,)\n",
    "from sklearn.metrics import mean_absolute_error,mean_squared_error,r2_score"
   ]
  },
  {
   "cell_type": "code",
   "execution_count": 9,
   "metadata": {
    "collapsed": true
   },
   "outputs": [
    {
     "data": {
      "text/plain": [
       "['__all__',\n",
       " '__builtins__',\n",
       " '__cached__',\n",
       " '__doc__',\n",
       " '__file__',\n",
       " '__loader__',\n",
       " '__name__',\n",
       " '__package__',\n",
       " '__path__',\n",
       " '__spec__',\n",
       " '_svmlight_format',\n",
       " 'base',\n",
       " 'california_housing',\n",
       " 'clear_data_home',\n",
       " 'covtype',\n",
       " 'dump_svmlight_file',\n",
       " 'fetch_20newsgroups',\n",
       " 'fetch_20newsgroups_vectorized',\n",
       " 'fetch_california_housing',\n",
       " 'fetch_covtype',\n",
       " 'fetch_kddcup99',\n",
       " 'fetch_lfw_pairs',\n",
       " 'fetch_lfw_people',\n",
       " 'fetch_mldata',\n",
       " 'fetch_olivetti_faces',\n",
       " 'fetch_openml',\n",
       " 'fetch_rcv1',\n",
       " 'fetch_species_distributions',\n",
       " 'get_data_home',\n",
       " 'kddcup99',\n",
       " 'lfw',\n",
       " 'load_boston',\n",
       " 'load_breast_cancer',\n",
       " 'load_diabetes',\n",
       " 'load_digits',\n",
       " 'load_files',\n",
       " 'load_iris',\n",
       " 'load_linnerud',\n",
       " 'load_mlcomp',\n",
       " 'load_sample_image',\n",
       " 'load_sample_images',\n",
       " 'load_svmlight_file',\n",
       " 'load_svmlight_files',\n",
       " 'load_wine',\n",
       " 'make_biclusters',\n",
       " 'make_blobs',\n",
       " 'make_checkerboard',\n",
       " 'make_circles',\n",
       " 'make_classification',\n",
       " 'make_friedman1',\n",
       " 'make_friedman2',\n",
       " 'make_friedman3',\n",
       " 'make_gaussian_quantiles',\n",
       " 'make_hastie_10_2',\n",
       " 'make_low_rank_matrix',\n",
       " 'make_moons',\n",
       " 'make_multilabel_classification',\n",
       " 'make_regression',\n",
       " 'make_s_curve',\n",
       " 'make_sparse_coded_signal',\n",
       " 'make_sparse_spd_matrix',\n",
       " 'make_sparse_uncorrelated',\n",
       " 'make_spd_matrix',\n",
       " 'make_swiss_roll',\n",
       " 'mlcomp',\n",
       " 'mldata',\n",
       " 'mldata_filename',\n",
       " 'olivetti_faces',\n",
       " 'openml',\n",
       " 'rcv1',\n",
       " 'samples_generator',\n",
       " 'species_distributions',\n",
       " 'svmlight_format',\n",
       " 'twenty_newsgroups']"
      ]
     },
     "execution_count": 9,
     "metadata": {},
     "output_type": "execute_result"
    }
   ],
   "source": [
    "import sklearn.datasets\n",
    "dir(sklearn.datasets)"
   ]
  },
  {
   "cell_type": "markdown",
   "metadata": {},
   "source": [
    "### Linear Regression"
   ]
  },
  {
   "cell_type": "code",
   "execution_count": 10,
   "metadata": {},
   "outputs": [
    {
     "data": {
      "text/plain": [
       "(404, 13)"
      ]
     },
     "execution_count": 10,
     "metadata": {},
     "output_type": "execute_result"
    }
   ],
   "source": [
    "# Load and split the data\n",
    "boston = load_boston()\n",
    "\n",
    "X_train, X_test, y_train, y_test = train_test_split(boston.data, boston.target, test_size= 0.2,random_state=42 )\n",
    "X_train.shape"
   ]
  },
  {
   "cell_type": "code",
   "execution_count": 11,
   "metadata": {},
   "outputs": [
    {
     "name": "stdout",
     "output_type": "stream",
     "text": [
      "Linear Regression pipeline train accuracy: 0.751\n",
      "Linear Regression pipeline test accuracy: 0.669\n",
      "Linear Regression pipeline train mae score : 3.31477162678323\n",
      "Linear Regression pipeline test mae score : 3.189091965887845\n",
      "Linear Regression pipeline train mse score : 21.641412753226312\n",
      "Linear Regression pipeline test mse score : 24.291119474973517\n",
      "Linear Regression pipeline train r2 score : 0.7508856358979673\n",
      "Linear Regression pipeline test r2 score : 0.668759493535632\n"
     ]
    },
    {
     "name": "stderr",
     "output_type": "stream",
     "text": [
      "C:\\Users\\rmkr\\AppData\\Local\\Continuum\\anaconda3\\lib\\site-packages\\sklearn\\utils\\deprecation.py:58: DeprecationWarning: Class Imputer is deprecated; Imputer was deprecated in version 0.20 and will be removed in 0.22. Import impute.SimpleImputer from sklearn instead.\n",
      "  warnings.warn(msg, category=DeprecationWarning)\n"
     ]
    }
   ],
   "source": [
    "pipe_lnr = Pipeline([('imputation',Imputer(strategy='median')),\n",
    "                    ('minmax', MinMaxScaler()),\n",
    "                     ('lnr', LinearRegression())])\n",
    "\n",
    "pipe_lnr.fit(X_train, y_train)\n",
    "\n",
    "score = pipe_lnr.score(X_train, y_train)\n",
    "print('Linear Regression pipeline train accuracy: %.3f' % score)\n",
    "\n",
    "score = pipe_lnr.score(X_test, y_test)\n",
    "print('Linear Regression pipeline test accuracy: %.3f' % score)\n",
    "\n",
    "# mean_absolute_error,mean_squared_error,r2_score\n",
    "\n",
    "print('Linear Regression pipeline train mae score :', mean_absolute_error(y_train,pipe_lnr.predict(X_train)))\n",
    "\n",
    "print('Linear Regression pipeline test mae score :', mean_absolute_error(y_test,pipe_lnr.predict(X_test)))\n",
    "\n",
    "print('Linear Regression pipeline train mse score :', mean_squared_error(y_train,pipe_lnr.predict(X_train)))\n",
    "\n",
    "print('Linear Regression pipeline test mse score :', mean_squared_error(y_test,pipe_lnr.predict(X_test)))\n",
    "\n",
    "print('Linear Regression pipeline train r2 score :', r2_score(y_train,pipe_lnr.predict(X_train)))\n",
    "\n",
    "print('Linear Regression pipeline test r2 score :', r2_score(y_test,pipe_lnr.predict(X_test)))"
   ]
  },
  {
   "cell_type": "code",
   "execution_count": 12,
   "metadata": {},
   "outputs": [],
   "source": [
    "from sklearn.linear_model import LogisticRegression ,Ridge, Lasso\n",
    "\n",
    "from sklearn.tree import DecisionTreeRegressor\n",
    "from sklearn.ensemble import RandomForestRegressor"
   ]
  },
  {
   "cell_type": "markdown",
   "metadata": {},
   "source": [
    "## RandomForest Regressor"
   ]
  },
  {
   "cell_type": "code",
   "execution_count": 15,
   "metadata": {},
   "outputs": [
    {
     "name": "stdout",
     "output_type": "stream",
     "text": [
      "Linear Regression pipeline train accuracy: 0.963\n",
      "Linear Regression pipeline test accuracy: 0.857\n",
      "RandomForest  Regression pipeline train mae score : 1.0001237623762376\n",
      "RandomForest Regression pipeline test mae score : 2.175196078431372\n",
      "RandomForest Regression pipeline train mse score : 3.174906188118812\n",
      "RandomForest Regression pipeline test mse score : 10.469459803921568\n",
      "RandomForest Regression pipeline train r2 score : 0.9634536457875692\n",
      "RandomForest Regression pipeline test r2 score : 0.8572355147554144\n"
     ]
    },
    {
     "name": "stderr",
     "output_type": "stream",
     "text": [
      "C:\\Users\\rmkr\\AppData\\Local\\Continuum\\anaconda3\\lib\\site-packages\\sklearn\\utils\\deprecation.py:58: DeprecationWarning: Class Imputer is deprecated; Imputer was deprecated in version 0.20 and will be removed in 0.22. Import impute.SimpleImputer from sklearn instead.\n",
      "  warnings.warn(msg, category=DeprecationWarning)\n",
      "C:\\Users\\rmkr\\AppData\\Local\\Continuum\\anaconda3\\lib\\site-packages\\sklearn\\ensemble\\forest.py:246: FutureWarning: The default value of n_estimators will change from 10 in version 0.20 to 100 in 0.22.\n",
      "  \"10 in version 0.20 to 100 in 0.22.\", FutureWarning)\n"
     ]
    }
   ],
   "source": [
    "\n",
    "pipe_lnr = Pipeline([('imputation',Imputer(strategy='median')),\n",
    "                    ('minmax', MinMaxScaler()),\n",
    "                     ('lnr', RandomForestRegressor())])\n",
    "\n",
    "pipe_lnr.fit(X_train, y_train)\n",
    "\n",
    "score = pipe_lnr.score(X_train, y_train)\n",
    "print('Linear Regression pipeline train accuracy: %.3f' % score)\n",
    "\n",
    "score = pipe_lnr.score(X_test, y_test)\n",
    "print('Linear Regression pipeline test accuracy: %.3f' % score)\n",
    "\n",
    "# mean_absolute_error,mean_squared_error,r2_score\n",
    "\n",
    "print('RandomForest  Regression pipeline train mae score :', mean_absolute_error(y_train,pipe_lnr.predict(X_train)))\n",
    "\n",
    "print('RandomForest Regression pipeline test mae score :', mean_absolute_error(y_test,pipe_lnr.predict(X_test)))\n",
    "\n",
    "print('RandomForest Regression pipeline train mse score :', mean_squared_error(y_train,pipe_lnr.predict(X_train)))\n",
    "\n",
    "print('RandomForest Regression pipeline test mse score :', mean_squared_error(y_test,pipe_lnr.predict(X_test)))\n",
    "\n",
    "print('RandomForest Regression pipeline train r2 score :', r2_score(y_train,pipe_lnr.predict(X_train)))\n",
    "\n",
    "print('RandomForest Regression pipeline test r2 score :', r2_score(y_test,pipe_lnr.predict(X_test)))"
   ]
  },
  {
   "cell_type": "code",
   "execution_count": 18,
   "metadata": {},
   "outputs": [],
   "source": [
    "import numpy as np"
   ]
  },
  {
   "cell_type": "code",
   "execution_count": 19,
   "metadata": {},
   "outputs": [],
   "source": [
    "def mean_absolute_percentage_error(y_true, y_pred):\n",
    "    return np.mean(np.abs((y_true - y_pred) / y_true)) * 100"
   ]
  },
  {
   "cell_type": "code",
   "execution_count": 20,
   "metadata": {},
   "outputs": [
    {
     "name": "stdout",
     "output_type": "stream",
     "text": [
      "RandomForest Regression pipeline train mean_absolute_percentage_error : 4.931697959455074\n",
      "RandomForest Regression pipeline test mean_absolute_percentage_error : 11.59125740183828\n"
     ]
    }
   ],
   "source": [
    "print('RandomForest Regression pipeline train mean_absolute_percentage_error :', mean_absolute_percentage_error(y_train,pipe_lnr.predict(X_train)))\n",
    "\n",
    "print('RandomForest Regression pipeline test mean_absolute_percentage_error :', mean_absolute_percentage_error(y_test,pipe_lnr.predict(X_test)))"
   ]
  },
  {
   "cell_type": "markdown",
   "metadata": {},
   "source": [
    "## Ridge regression"
   ]
  },
  {
   "cell_type": "code",
   "execution_count": 14,
   "metadata": {},
   "outputs": [
    {
     "name": "stdout",
     "output_type": "stream",
     "text": [
      "Linear Regression pipeline train accuracy: 0.751\n",
      "Linear Regression pipeline test accuracy: 0.671\n",
      "Ridge  Regression pipeline train mae score : 3.299326734185518\n",
      "Ridge Regression pipeline test mae score : 3.1625982257421517\n",
      "Ridge Regression pipeline train mse score : 21.660706347336276\n",
      "Ridge Regression pipeline test mse score : 24.115706045460747\n",
      "Ridge Regression pipeline train r2 score : 0.7506635472809832\n",
      "Ridge Regression pipeline test r2 score : 0.6711514801747132\n"
     ]
    },
    {
     "name": "stderr",
     "output_type": "stream",
     "text": [
      "C:\\Users\\rmkr\\AppData\\Local\\Continuum\\anaconda3\\lib\\site-packages\\sklearn\\utils\\deprecation.py:58: DeprecationWarning: Class Imputer is deprecated; Imputer was deprecated in version 0.20 and will be removed in 0.22. Import impute.SimpleImputer from sklearn instead.\n",
      "  warnings.warn(msg, category=DeprecationWarning)\n"
     ]
    }
   ],
   "source": [
    "\n",
    "pipe_lnr = Pipeline([('imputation',Imputer(strategy='median')),\n",
    "                    ('minmax', MinMaxScaler()),\n",
    "                     ('lnr', Ridge(alpha=0.2))])\n",
    "\n",
    "pipe_lnr.fit(X_train, y_train)\n",
    "\n",
    "score = pipe_lnr.score(X_train, y_train)\n",
    "print('Linear Regression pipeline train accuracy: %.3f' % score)\n",
    "\n",
    "score = pipe_lnr.score(X_test, y_test)\n",
    "print('Linear Regression pipeline test accuracy: %.3f' % score)\n",
    "\n",
    "# mean_absolute_error,mean_squared_error,r2_score\n",
    "\n",
    "print('Ridge  Regression pipeline train mae score :', mean_absolute_error(y_train,pipe_lnr.predict(X_train)))\n",
    "\n",
    "print('Ridge Regression pipeline test mae score :', mean_absolute_error(y_test,pipe_lnr.predict(X_test)))\n",
    "\n",
    "print('Ridge Regression pipeline train mse score :', mean_squared_error(y_train,pipe_lnr.predict(X_train)))\n",
    "\n",
    "print('Ridge Regression pipeline test mse score :', mean_squared_error(y_test,pipe_lnr.predict(X_test)))\n",
    "\n",
    "print('Ridge Regression pipeline train r2 score :', r2_score(y_train,pipe_lnr.predict(X_train)))\n",
    "\n",
    "print('Ridge Regression pipeline test r2 score :', r2_score(y_test,pipe_lnr.predict(X_test)))"
   ]
  },
  {
   "cell_type": "markdown",
   "metadata": {},
   "source": [
    "### Logistic Regression"
   ]
  },
  {
   "cell_type": "code",
   "execution_count": 24,
   "metadata": {},
   "outputs": [
    {
     "data": {
      "text/plain": [
       "(455, 30)"
      ]
     },
     "execution_count": 24,
     "metadata": {},
     "output_type": "execute_result"
    }
   ],
   "source": [
    "# Load and split the data\n",
    "cancer = load_breast_cancer()\n",
    "X_train, X_test, y_train, y_test = train_test_split(cancer.data, cancer.target, test_size= 0.2,random_state=42 )\n",
    "X_train.shape"
   ]
  },
  {
   "cell_type": "code",
   "execution_count": 25,
   "metadata": {},
   "outputs": [
    {
     "name": "stderr",
     "output_type": "stream",
     "text": [
      "C:\\Users\\rmkr\\AppData\\Local\\Continuum\\anaconda3\\lib\\site-packages\\sklearn\\utils\\deprecation.py:58: DeprecationWarning: Class Imputer is deprecated; Imputer was deprecated in version 0.20 and will be removed in 0.22. Import impute.SimpleImputer from sklearn instead.\n",
      "  warnings.warn(msg, category=DeprecationWarning)\n"
     ]
    }
   ],
   "source": [
    "pipe_lr = Pipeline([('imputation',Imputer(strategy='median')),\n",
    "                    ('minmax', MinMaxScaler()),\n",
    "                     ('lr', LogisticRegression())])\n",
    "\n",
    "# dir(pipe_lnr)"
   ]
  },
  {
   "cell_type": "code",
   "execution_count": 26,
   "metadata": {},
   "outputs": [
    {
     "name": "stderr",
     "output_type": "stream",
     "text": [
      "C:\\Users\\rmkr\\AppData\\Local\\Continuum\\anaconda3\\lib\\site-packages\\sklearn\\linear_model\\logistic.py:433: FutureWarning: Default solver will be changed to 'lbfgs' in 0.22. Specify a solver to silence this warning.\n",
      "  FutureWarning)\n"
     ]
    },
    {
     "data": {
      "text/plain": [
       "Pipeline(memory=None,\n",
       "     steps=[('imputation', Imputer(axis=0, copy=True, missing_values='NaN', strategy='median', verbose=0)), ('minmax', MinMaxScaler(copy=True, feature_range=(0, 1))), ('lr', LogisticRegression(C=1.0, class_weight=None, dual=False, fit_intercept=True,\n",
       "          intercept_scaling=1, max_iter=100, multi_class='warn',\n",
       "          n_jobs=None, penalty='l2', random_state=None, solver='warn',\n",
       "          tol=0.0001, verbose=0, warm_start=False))])"
      ]
     },
     "execution_count": 26,
     "metadata": {},
     "output_type": "execute_result"
    }
   ],
   "source": [
    "pipe_lr.fit(X_train, y_train)"
   ]
  },
  {
   "cell_type": "code",
   "execution_count": 27,
   "metadata": {},
   "outputs": [
    {
     "name": "stdout",
     "output_type": "stream",
     "text": [
      "Logistic Regression pipeline train accuracy: 0.967\n",
      "Logistic Regression pipeline test accuracy: 0.974\n"
     ]
    }
   ],
   "source": [
    "score = pipe_lr.score(X_train, y_train)\n",
    "print('Logistic Regression pipeline train accuracy: %.3f' % score)\n",
    "\n",
    "score = pipe_lr.score(X_test, y_test)\n",
    "print('Logistic Regression pipeline test accuracy: %.3f' % score)"
   ]
  },
  {
   "cell_type": "code",
   "execution_count": 28,
   "metadata": {},
   "outputs": [
    {
     "name": "stdout",
     "output_type": "stream",
     "text": [
      "Logistic Regression pipeline train confusion marrix : [[156  13]\n",
      " [  2 284]]\n",
      "Logistic Regression pipeline test confusion marrix : [[156  13]\n",
      " [  2 284]]\n"
     ]
    }
   ],
   "source": [
    "print('Logistic Regression pipeline train confusion marrix :',  confusion_matrix(y_train,pipe_lr.predict(X_train)))\n",
    "\n",
    "print('Logistic Regression pipeline test confusion marrix :', confusion_matrix(y_train,pipe_lr.predict(X_train)))"
   ]
  },
  {
   "cell_type": "code",
   "execution_count": 29,
   "metadata": {},
   "outputs": [
    {
     "name": "stdout",
     "output_type": "stream",
     "text": [
      "Logistic Regression pipeline train precision score : 0.9562289562289562\n",
      "Logistic Regression pipeline test precision score : 0.9562289562289562\n"
     ]
    }
   ],
   "source": [
    "print('Logistic Regression pipeline train precision score :', precision_score(y_train,pipe_lr.predict(X_train)))\n",
    "\n",
    "print('Logistic Regression pipeline test precision score :', precision_score(y_train,pipe_lr.predict(X_train)))"
   ]
  },
  {
   "cell_type": "code",
   "execution_count": 30,
   "metadata": {},
   "outputs": [
    {
     "name": "stdout",
     "output_type": "stream",
     "text": [
      "Logistic Regression pipeline train recall score : 0.993006993006993\n",
      "Logistic Regression pipeline test recall score : 0.993006993006993\n"
     ]
    }
   ],
   "source": [
    "print('Logistic Regression pipeline train recall score :', recall_score(y_train,pipe_lr.predict(X_train)))\n",
    "\n",
    "print('Logistic Regression pipeline test recall score :', recall_score(y_train,pipe_lr.predict(X_train)))"
   ]
  },
  {
   "cell_type": "code",
   "execution_count": null,
   "metadata": {},
   "outputs": [],
   "source": [
    "def plot_roc_curve(fpr, tpr,color, label=None):\n",
    "    plt.plot(fpr, tpr, linewidth=2, label=label,color=color)\n",
    "    plt.plot([0, 1], [0, 1], 'k--')\n",
    "    plt.axis([0, 1, 0, 1])\n",
    "    plt.xlabel('False Positive Rate')\n",
    "    plt.ylabel('True Positive Rate')\n",
    "    \n",
    "\n",
    "from sklearn.metrics import roc_curve"
   ]
  },
  {
   "cell_type": "code",
   "execution_count": 40,
   "metadata": {},
   "outputs": [
    {
     "data": {
      "image/png": "[encoded data removed]",
      "text/plain": [
       "<Figure size 432x288 with 1 Axes>"
      ]
     },
     "metadata": {
      "needs_background": "light"
     },
     "output_type": "display_data"
    }
   ],
   "source": [
    "fpr, tpr, thresholds = roc_curve(y_train,pipe_lr.predict(X_train))\n",
    "\n",
    "plot_roc_curve(fpr, tpr,'r')\n",
    "plt.show()"
   ]
  },
  {
   "cell_type": "code",
   "execution_count": 33,
   "metadata": {},
   "outputs": [],
   "source": [
    "from sklearn.ensemble import RandomForestClassifier\n",
    "\n",
    "pipe_rlc = Pipeline([('imputation',Imputer(strategy='median')),\n",
    "                    ('minmax', MinMaxScaler()),\n",
    "                     ('lr', RandomForestClassifier())])\n",
    "\n",
    "# dir(pipe_lnr)\n",
    "\n",
    "pipe_rlc.fit(X_train, y_train)\n",
    "\n",
    "score = pipe_rlc.score(X_train, y_train)\n",
    "print('Random Forest classifierpipeline train accuracy: %.3f' % score)\n",
    "\n",
    "score = pipe_rlc.score(X_test, y_test)\n",
    "print('Random Forest classifierpipeline test accuracy: %.3f' % score)\n",
    "\n",
    "print('Random Forest classifierpipeline train confusion marrix :',  confusion_matrix(y_train,pipe_rlc.predict(X_train)))\n",
    "\n",
    "print('Random Forest classifierpipeline test confusion marrix :', confusion_matrix(y_train,pipe_rlc.predict(X_train)))\n",
    "\n",
    "print('Random Forest classifierpipeline train precision score :', precision_score(y_train,pipe_rlc.predict(X_train)))\n",
    "\n",
    "print('Random Forest classifierpipeline test precision score :', precision_score(y_train,pipe_rlc.predict(X_train)))\n",
    "\n",
    "print('Random Forest classifierpipeline train recall score :', recall_score(y_train,pipe_rlc.predict(X_train)))\n",
    "\n",
    "print('Random Forest classifierpipeline test recall score :', recall_score(y_train,pipe_rlc.predict(X_train)))\n",
    "\n",
    "fpr, tpr, thresholds = roc_curve(y_train,pipe_lr.predict(X_train))\n",
    "fpr1, tpr1, thresholds = roc_curve(y_train,pipe_rlc.predict(X_train))\n",
    "plot_roc_curve(fpr, tpr,'r',label='Logistic Regression')\n",
    "plot_roc_curve(fpr1, tpr1,'b',label='Random Forest Classifier')\n",
    "plt.show()"
   ]
  },
  {
   "cell_type": "code",
   "execution_count": 45,
   "metadata": {},
   "outputs": [
    {
     "name": "stdout",
     "output_type": "stream",
     "text": [
      "Random Forest classifierpipeline train accuracy: 1.000\n",
      "Random Forest classifierpipeline test accuracy: 0.939\n",
      "Random Forest classifierpipeline train confusion marrix : [[169   0]\n",
      " [  0 286]]\n",
      "Random Forest classifierpipeline test confusion marrix : [[169   0]\n",
      " [  0 286]]\n",
      "Random Forest classifierpipeline train precision score : 1.0\n",
      "Random Forest classifierpipeline test precision score : 1.0\n",
      "Random Forest classifierpipeline train recall score : 1.0\n",
      "Random Forest classifierpipeline test recall score : 1.0\n"
     ]
    },
    {
     "name": "stderr",
     "output_type": "stream",
     "text": [
      "C:\\Users\\rmkr\\AppData\\Local\\Continuum\\anaconda3\\lib\\site-packages\\sklearn\\utils\\deprecation.py:58: DeprecationWarning: Class Imputer is deprecated; Imputer was deprecated in version 0.20 and will be removed in 0.22. Import impute.SimpleImputer from sklearn instead.\n",
      "  warnings.warn(msg, category=DeprecationWarning)\n"
     ]
    }
   ],
   "source": [
    "from sklearn.tree import DecisionTreeClassifier\n",
    "\n",
    "pipe_dtc = Pipeline([('imputation',Imputer(strategy='median')),\n",
    "                    ('minmax', MinMaxScaler()),\n",
    "                     ('lr', DecisionTreeClassifier())])\n",
    "\n",
    "# dir(pipe_lnr)\n",
    "\n",
    "pipe_dtc.fit(X_train, y_train)\n",
    "\n",
    "score = pipe_dtc.score(X_train, y_train)\n",
    "print('Random Forest classifierpipeline train accuracy: %.3f' % score)\n",
    "\n",
    "score = pipe_dtc.score(X_test, y_test)\n",
    "print('Random Forest classifierpipeline test accuracy: %.3f' % score)\n",
    "\n",
    "print('Random Forest classifierpipeline train confusion marrix :',  confusion_matrix(y_train,pipe_dtc.predict(X_train)))\n",
    "\n",
    "print('Random Forest classifierpipeline test confusion marrix :', confusion_matrix(y_train,pipe_dtc.predict(X_train)))\n",
    "\n",
    "print('Random Forest classifierpipeline train precision score :', precision_score(y_train,pipe_dtc.predict(X_train)))\n",
    "\n",
    "print('Random Forest classifierpipeline test precision score :', precision_score(y_train,pipe_dtc.predict(X_train)))\n",
    "\n",
    "print('Random Forest classifierpipeline train recall score :', recall_score(y_train,pipe_dtc.predict(X_train)))\n",
    "\n",
    "print('Random Forest classifierpipeline test recall score :', recall_score(y_train,pipe_dtc.predict(X_train)))"
   ]
  },
  {
   "cell_type": "code",
   "execution_count": 48,
   "metadata": {},
   "outputs": [
    {
     "name": "stdout",
     "output_type": "stream",
     "text": [
      "Random Forest classifierpipeline train accuracy: 0.987\n",
      "Random Forest classifierpipeline test accuracy: 0.965\n",
      "Random Forest classifierpipeline train confusion marrix : [[163   6]\n",
      " [  0 286]]\n",
      "Random Forest classifierpipeline test confusion marrix : [[41  2]\n",
      " [ 2 69]]\n",
      "Random Forest classifierpipeline train precision score : 0.9794520547945206\n",
      "Random Forest classifierpipeline test precision score : 0.971830985915493\n",
      "Random Forest classifierpipeline train recall score : 1.0\n",
      "Random Forest classifierpipeline test recall score : 0.971830985915493\n"
     ]
    },
    {
     "name": "stderr",
     "output_type": "stream",
     "text": [
      "C:\\Users\\rmkr\\AppData\\Local\\Continuum\\anaconda3\\lib\\site-packages\\sklearn\\utils\\deprecation.py:58: DeprecationWarning: Class Imputer is deprecated; Imputer was deprecated in version 0.20 and will be removed in 0.22. Import impute.SimpleImputer from sklearn instead.\n",
      "  warnings.warn(msg, category=DeprecationWarning)\n"
     ]
    }
   ],
   "source": [
    "from sklearn.neighbors import KNeighborsClassifier\n",
    "\n",
    "pipe_knn = Pipeline([('imputation',Imputer(strategy='median')),\n",
    "                    ('minmax', MinMaxScaler()),\n",
    "                     ('lr', KNeighborsClassifier(n_neighbors=3))])\n",
    "\n",
    "# dir(pipe_lnr)\n",
    "\n",
    "pipe_knn.fit(X_train, y_train)\n",
    "\n",
    "score = pipe_knn.score(X_train, y_train)\n",
    "print('Random Forest classifierpipeline train accuracy: %.3f' % score)\n",
    "\n",
    "score = pipe_knn.score(X_test, y_test)\n",
    "print('Random Forest classifierpipeline test accuracy: %.3f' % score)\n",
    "\n",
    "print('Random Forest classifierpipeline train confusion marrix :',  confusion_matrix(y_train,pipe_knn.predict(X_train)))\n",
    "\n",
    "print('Random Forest classifierpipeline test confusion marrix :', confusion_matrix(y_test,pipe_knn.predict(X_test)))\n",
    "\n",
    "print('Random Forest classifierpipeline train precision score :', precision_score(y_train,pipe_knn.predict(X_train)))\n",
    "\n",
    "print('Random Forest classifierpipeline test precision score :', precision_score(y_test,pipe_knn.predict(X_test)))\n",
    "\n",
    "print('Random Forest classifierpipeline train recall score :', recall_score(y_train,pipe_knn.predict(X_train)))\n",
    "\n",
    "print('Random Forest classifierpipeline test recall score :', recall_score(y_test,pipe_knn.predict(X_test)))"
   ]
  },
  {
   "cell_type": "code",
   "execution_count": 49,
   "metadata": {},
   "outputs": [
    {
     "data": {
      "image/png": "[encoded data removed]",
      "text/plain": [
       "<Figure size 432x288 with 1 Axes>"
      ]
     },
     "metadata": {
      "needs_background": "light"
     },
     "output_type": "display_data"
    }
   ],
   "source": [
    "fpr, tpr, thresholds = roc_curve(y_train,pipe_lr.predict(X_train))\n",
    "fpr1, tpr1, thresholds = roc_curve(y_train,pipe_rlc.predict(X_train))\n",
    "fpr2, tpr2, thresholds = roc_curve(y_train,pipe_dtc.predict(X_train))\n",
    "fpr3, tpr3, thresholds = roc_curve(y_train,pipe_knn.predict(X_train))\n",
    "\n",
    "plot_roc_curve(fpr, tpr,'r',label='Logistic Regression')\n",
    "plot_roc_curve(fpr1, tpr1,'b',label='Random Forest Classifier')\n",
    "plot_roc_curve(fpr2, tpr2,'g',label='Decision Tree Classifier')\n",
    "plot_roc_curve(fpr3, tpr3,'y',label='K-Nearest Neighbor Classifier')\n",
    "plt.show()"
   ]
  },
  {
   "cell_type": "code",
   "execution_count": null,
   "metadata": {},
   "outputs": [],
   "source": []
  },
  {
   "cell_type": "code",
   "execution_count": null,
   "metadata": {},
   "outputs": [],
   "source": []
  },
  {
   "cell_type": "code",
   "execution_count": null,
   "metadata": {},
   "outputs": [],
   "source": []
  },
  {
   "cell_type": "code",
   "execution_count": null,
   "metadata": {},
   "outputs": [],
   "source": [
    "roc_auc_score"
   ]
  },
  {
   "cell_type": "code",
   "execution_count": 44,
   "metadata": {},
   "outputs": [
    {
     "name": "stdout",
     "output_type": "stream",
     "text": [
      "Random Forest classifier pipeline train auc score : 0.9935449166218396\n",
      "Logistic Regression pipeline train auc score : 0.958041958041958\n"
     ]
    }
   ],
   "source": [
    "print('Random Forest classifier pipeline train auc score :', roc_auc_score(y_train,pipe_rlc.predict(X_train)))\n",
    "\n",
    "print('Logistic Regression pipeline train auc score :', roc_auc_score(y_train,pipe_lr.predict(X_train)))"
   ]
  },
  {
   "cell_type": "code",
   "execution_count": null,
   "metadata": {},
   "outputs": [],
   "source": [
    "from sklearn.tree import DecisionTreeClassifier"
   ]
  },
  {
   "cell_type": "markdown",
   "metadata": {},
   "source": [
    "### Logistic Regression"
   ]
  },
  {
   "cell_type": "code",
   "execution_count": 22,
   "metadata": {},
   "outputs": [
    {
     "data": {
      "text/plain": [
       "(120, 4)"
      ]
     },
     "execution_count": 22,
     "metadata": {},
     "output_type": "execute_result"
    }
   ],
   "source": [
    "# Load and split the data\n",
    "iris = load_iris()\n",
    "X_train, X_test, y_train, y_test = train_test_split(iris.data, iris.target, test_size= 0.2,random_state=42 )\n",
    "X_train.shape"
   ]
  },
  {
   "cell_type": "code",
   "execution_count": 23,
   "metadata": {},
   "outputs": [],
   "source": [
    "pipe_lr = Pipeline([('imputation',Imputer(strategy='median')),\n",
    "                    ('minmax', MinMaxScaler()),\n",
    "                     ('lr', LogisticRegression())])"
   ]
  },
  {
   "cell_type": "code",
   "execution_count": 26,
   "metadata": {
    "collapsed": true
   },
   "outputs": [
    {
     "data": {
      "text/plain": [
       "['__abstractmethods__',\n",
       " '__class__',\n",
       " '__delattr__',\n",
       " '__dict__',\n",
       " '__dir__',\n",
       " '__doc__',\n",
       " '__eq__',\n",
       " '__format__',\n",
       " '__ge__',\n",
       " '__getattribute__',\n",
       " '__getstate__',\n",
       " '__gt__',\n",
       " '__hash__',\n",
       " '__init__',\n",
       " '__init_subclass__',\n",
       " '__le__',\n",
       " '__lt__',\n",
       " '__module__',\n",
       " '__ne__',\n",
       " '__new__',\n",
       " '__reduce__',\n",
       " '__reduce_ex__',\n",
       " '__repr__',\n",
       " '__setattr__',\n",
       " '__setstate__',\n",
       " '__sizeof__',\n",
       " '__str__',\n",
       " '__subclasshook__',\n",
       " '__weakref__',\n",
       " '_abc_cache',\n",
       " '_abc_negative_cache',\n",
       " '_abc_negative_cache_version',\n",
       " '_abc_registry',\n",
       " '_estimator_type',\n",
       " '_final_estimator',\n",
       " '_fit',\n",
       " '_get_param_names',\n",
       " '_get_params',\n",
       " '_inverse_transform',\n",
       " '_pairwise',\n",
       " '_replace_estimator',\n",
       " '_set_params',\n",
       " '_transform',\n",
       " '_validate_names',\n",
       " '_validate_steps',\n",
       " 'classes_',\n",
       " 'decision_function',\n",
       " 'fit',\n",
       " 'fit_predict',\n",
       " 'fit_transform',\n",
       " 'get_params',\n",
       " 'inverse_transform',\n",
       " 'memory',\n",
       " 'named_steps',\n",
       " 'predict',\n",
       " 'predict_log_proba',\n",
       " 'predict_proba',\n",
       " 'score',\n",
       " 'set_params',\n",
       " 'steps',\n",
       " 'transform']"
      ]
     },
     "execution_count": 26,
     "metadata": {},
     "output_type": "execute_result"
    }
   ],
   "source": [
    "dir(pipe_lnr)"
   ]
  },
  {
   "cell_type": "code",
   "execution_count": 24,
   "metadata": {
    "collapsed": true
   },
   "outputs": [
    {
     "data": {
      "text/plain": [
       "Pipeline(memory=None,\n",
       "     steps=[('imputation', Imputer(axis=0, copy=True, missing_values='NaN', strategy='median', verbose=0)), ('minmax', MinMaxScaler(copy=True, feature_range=(0, 1))), ('lr', LogisticRegression(C=1.0, class_weight=None, dual=False, fit_intercept=True,\n",
       "          intercept_scaling=1, max_iter=100, multi_class='ovr', n_jobs=1,\n",
       "          penalty='l2', random_state=None, solver='liblinear', tol=0.0001,\n",
       "          verbose=0, warm_start=False))])"
      ]
     },
     "execution_count": 24,
     "metadata": {},
     "output_type": "execute_result"
    }
   ],
   "source": [
    "pipe_lr.fit(X_train, y_train)"
   ]
  },
  {
   "cell_type": "code",
   "execution_count": 25,
   "metadata": {},
   "outputs": [
    {
     "name": "stdout",
     "output_type": "stream",
     "text": [
      "Logistic Regression pipeline train accuracy: 0.842\n",
      "Logistic Regression pipeline test accuracy: 0.900\n"
     ]
    }
   ],
   "source": [
    "score = pipe_lr.score(X_train, y_train)\n",
    "print('Logistic Regression pipeline train accuracy: %.3f' % score)\n",
    "\n",
    "score = pipe_lr.score(X_test, y_test)\n",
    "print('Logistic Regression pipeline test accuracy: %.3f' % score)"
   ]
  },
  {
   "cell_type": "code",
   "execution_count": 29,
   "metadata": {},
   "outputs": [
    {
     "name": "stdout",
     "output_type": "stream",
     "text": [
      "Logistic Regression pipeline train confusion marrix : [[40  0  0]\n",
      " [ 0 24 17]\n",
      " [ 0  2 37]]\n",
      "Logistic Regression pipeline test confusion marrix : [[40  0  0]\n",
      " [ 0 24 17]\n",
      " [ 0  2 37]]\n"
     ]
    }
   ],
   "source": [
    "print('Logistic Regression pipeline train confusion marrix :',  confusion_matrix(y_train,pipe_lr.predict(X_train)))\n",
    "\n",
    "print('Logistic Regression pipeline test confusion marrix :', confusion_matrix(y_train,pipe_lr.predict(X_train)))"
   ]
  },
  {
   "cell_type": "code",
   "execution_count": 31,
   "metadata": {},
   "outputs": [],
   "source": [
    "# print('Logistic Regression pipeline train precision score :', precision_score(y_train,pipe_lr.predict(X_train)))\n",
    "\n",
    "# print('Logistic Regression pipeline test precision score :', precision_score(y_train,pipe_lr.predict(X_train)))"
   ]
  },
  {
   "cell_type": "code",
   "execution_count": 34,
   "metadata": {},
   "outputs": [],
   "source": [
    "# print('Logistic Regression pipeline train recall score :', recall_score(y_train,pipe_lr.predict(X_train)))\n",
    "\n",
    "# print('Logistic Regression pipeline test recall score :', recall_score(y_train,pipe_lr.predict(X_train)))"
   ]
  },
  {
   "cell_type": "code",
   "execution_count": 39,
   "metadata": {},
   "outputs": [],
   "source": [
    "# def plot_roc_curve(fpr, tpr,color, label=None):\n",
    "#     plt.plot(fpr, tpr, linewidth=2, label=label,color=color)\n",
    "#     plt.plot([0, 1], [0, 1], 'k--')\n",
    "#     plt.axis([0, 1, 0, 1])\n",
    "#     plt.xlabel('False Positive Rate')\n",
    "#     plt.ylabel('True Positive Rate')\n",
    "#     plot_roc_curve(fpr, tpr)\n",
    "#     plt.show()"
   ]
  },
  {
   "cell_type": "code",
   "execution_count": null,
   "metadata": {},
   "outputs": [],
   "source": [
    "# from sklearn.metrics import roc_curve\n",
    "# fpr, tpr, thresholds = roc_curve(y_train,pipe_lr.predict(X_train))"
   ]
  },
  {
   "cell_type": "code",
   "execution_count": null,
   "metadata": {},
   "outputs": [],
   "source": []
  }
 ],
 "metadata": {
  "kernelspec": {
   "display_name": "Python 3",
   "language": "python",
   "name": "python3"
  },
  "language_info": {
   "codemirror_mode": {
    "name": "ipython",
    "version": 3
   },
   "file_extension": ".py",
   "mimetype": "text/x-python",
   "name": "python",
   "nbconvert_exporter": "python",
   "pygments_lexer": "ipython3",
   "version": "3.7.4"
  }
 },
 "nbformat": 4,
 "nbformat_minor": 2
}
